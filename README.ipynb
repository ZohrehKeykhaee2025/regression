{
 "cells": [
  {
   "cell_type": "markdown",
   "id": "a4012fb8",
   "metadata": {},
   "source": [
    "# Robust Regression with Huber Loss\n",
    "\n",
    "This repository contains simple Python examples for applying robust regression using the **Huber loss** function.\n",
    "\n",
    "## Files\n",
    "\n",
    "- `huber_regression.py`: Demonstrates a simple Huber Regression on synthetic data with outliers.\n",
    "- `compare_huber_linear.py`: Compares Huber Regression and standard Linear Regression, including visualization and MSE.\n",
    "\n",
    "## Requirements\n",
    "\n",
    "- Python 3.x\n",
    "- numpy\n",
    "- matplotlib\n",
    "- scikit-learn\n",
    "\n",
    "You can install the dependencies using:\n",
    "\n",
    "```bash\n",
    "pip install numpy matplotlib scikit-learn\n"
   ]
  }
 ],
 "metadata": {
  "language_info": {
   "name": "python"
  }
 },
 "nbformat": 4,
 "nbformat_minor": 5
}
